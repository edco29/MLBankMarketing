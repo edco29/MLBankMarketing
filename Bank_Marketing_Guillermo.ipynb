{
  "nbformat": 4,
  "nbformat_minor": 0,
  "metadata": {
    "colab": {
      "name": "Bank Marketing Guillermo.ipynb",
      "provenance": [],
      "collapsed_sections": [],
      "authorship_tag": "ABX9TyMbfE4ehzHn9KPJ0kENullR",
      "include_colab_link": true
    },
    "kernelspec": {
      "name": "python3",
      "display_name": "Python 3"
    }
  },
  "cells": [
    {
      "cell_type": "markdown",
      "metadata": {
        "id": "view-in-github",
        "colab_type": "text"
      },
      "source": [
        "<a href=\"https://colab.research.google.com/github/edco29/MLBankMarketing/blob/master/Bank_Marketing_Guillermo.ipynb\" target=\"_parent\"><img src=\"https://colab.research.google.com/assets/colab-badge.svg\" alt=\"Open In Colab\"/></a>"
      ]
    },
    {
      "cell_type": "code",
      "metadata": {
        "id": "McsHxpjZjLsO",
        "colab_type": "code",
        "colab": {}
      },
      "source": [
        "import numpy as np\n",
        "import pandas as pd\n",
        "import matplotlib.pyplot as plt;\n",
        "import seaborn as sns\n",
        "%matplotlib inline\n",
        "\n",
        "from sklearn import preprocessing\n",
        "from sklearn import linear_model, svm\n",
        "from sklearn.linear_model import LogisticRegression\n",
        "from sklearn.ensemble import RandomForestClassifier\n",
        "from sklearn.model_selection import train_test_split\n",
        "from sklearn.model_selection import cross_val_score\n",
        "from sklearn.metrics import confusion_matrix\n",
        "# sns.set(style=\"white\")\n",
        "# sns.set(style=\"whitegrid\", color_codes=True)"
      ],
      "execution_count": 0,
      "outputs": []
    },
    {
      "cell_type": "markdown",
      "metadata": {
        "id": "fQGiRfTX7f4N",
        "colab_type": "text"
      },
      "source": [
        "# **DATASET**\n",
        "\n",
        "---\n",
        "\n"
      ]
    },
    {
      "cell_type": "code",
      "metadata": {
        "id": "VtpFB9SNp2zj",
        "colab_type": "code",
        "colab": {}
      },
      "source": [
        "#data =pd.read_csv('bank.csv', delimiter=\";\")\n",
        "data =pd.read_csv('bank-full.csv', delimiter=\";\")"
      ],
      "execution_count": 0,
      "outputs": []
    },
    {
      "cell_type": "code",
      "metadata": {
        "id": "qU2mmR4npsWM",
        "colab_type": "code",
        "outputId": "386b888a-5ef8-4bae-c355-6229d3258221",
        "colab": {
          "base_uri": "https://localhost:8080/",
          "height": 396
        }
      },
      "source": [
        "data.head(10)"
      ],
      "execution_count": 0,
      "outputs": [
        {
          "output_type": "execute_result",
          "data": {
            "text/html": [
              "<div>\n",
              "<style scoped>\n",
              "    .dataframe tbody tr th:only-of-type {\n",
              "        vertical-align: middle;\n",
              "    }\n",
              "\n",
              "    .dataframe tbody tr th {\n",
              "        vertical-align: top;\n",
              "    }\n",
              "\n",
              "    .dataframe thead th {\n",
              "        text-align: right;\n",
              "    }\n",
              "</style>\n",
              "<table border=\"1\" class=\"dataframe\">\n",
              "  <thead>\n",
              "    <tr style=\"text-align: right;\">\n",
              "      <th></th>\n",
              "      <th>age</th>\n",
              "      <th>job</th>\n",
              "      <th>marital</th>\n",
              "      <th>education</th>\n",
              "      <th>default</th>\n",
              "      <th>balance</th>\n",
              "      <th>housing</th>\n",
              "      <th>loan</th>\n",
              "      <th>contact</th>\n",
              "      <th>day</th>\n",
              "      <th>month</th>\n",
              "      <th>duration</th>\n",
              "      <th>campaign</th>\n",
              "      <th>pdays</th>\n",
              "      <th>previous</th>\n",
              "      <th>poutcome</th>\n",
              "      <th>y</th>\n",
              "    </tr>\n",
              "  </thead>\n",
              "  <tbody>\n",
              "    <tr>\n",
              "      <th>0</th>\n",
              "      <td>30</td>\n",
              "      <td>unemployed</td>\n",
              "      <td>married</td>\n",
              "      <td>primary</td>\n",
              "      <td>no</td>\n",
              "      <td>1787</td>\n",
              "      <td>no</td>\n",
              "      <td>no</td>\n",
              "      <td>cellular</td>\n",
              "      <td>19</td>\n",
              "      <td>oct</td>\n",
              "      <td>79</td>\n",
              "      <td>1</td>\n",
              "      <td>-1</td>\n",
              "      <td>0</td>\n",
              "      <td>unknown</td>\n",
              "      <td>no</td>\n",
              "    </tr>\n",
              "    <tr>\n",
              "      <th>1</th>\n",
              "      <td>33</td>\n",
              "      <td>services</td>\n",
              "      <td>married</td>\n",
              "      <td>secondary</td>\n",
              "      <td>no</td>\n",
              "      <td>4789</td>\n",
              "      <td>yes</td>\n",
              "      <td>yes</td>\n",
              "      <td>cellular</td>\n",
              "      <td>11</td>\n",
              "      <td>may</td>\n",
              "      <td>220</td>\n",
              "      <td>1</td>\n",
              "      <td>339</td>\n",
              "      <td>4</td>\n",
              "      <td>failure</td>\n",
              "      <td>no</td>\n",
              "    </tr>\n",
              "    <tr>\n",
              "      <th>2</th>\n",
              "      <td>35</td>\n",
              "      <td>management</td>\n",
              "      <td>single</td>\n",
              "      <td>tertiary</td>\n",
              "      <td>no</td>\n",
              "      <td>1350</td>\n",
              "      <td>yes</td>\n",
              "      <td>no</td>\n",
              "      <td>cellular</td>\n",
              "      <td>16</td>\n",
              "      <td>apr</td>\n",
              "      <td>185</td>\n",
              "      <td>1</td>\n",
              "      <td>330</td>\n",
              "      <td>1</td>\n",
              "      <td>failure</td>\n",
              "      <td>no</td>\n",
              "    </tr>\n",
              "    <tr>\n",
              "      <th>3</th>\n",
              "      <td>30</td>\n",
              "      <td>management</td>\n",
              "      <td>married</td>\n",
              "      <td>tertiary</td>\n",
              "      <td>no</td>\n",
              "      <td>1476</td>\n",
              "      <td>yes</td>\n",
              "      <td>yes</td>\n",
              "      <td>unknown</td>\n",
              "      <td>3</td>\n",
              "      <td>jun</td>\n",
              "      <td>199</td>\n",
              "      <td>4</td>\n",
              "      <td>-1</td>\n",
              "      <td>0</td>\n",
              "      <td>unknown</td>\n",
              "      <td>no</td>\n",
              "    </tr>\n",
              "    <tr>\n",
              "      <th>4</th>\n",
              "      <td>59</td>\n",
              "      <td>blue-collar</td>\n",
              "      <td>married</td>\n",
              "      <td>secondary</td>\n",
              "      <td>no</td>\n",
              "      <td>0</td>\n",
              "      <td>yes</td>\n",
              "      <td>no</td>\n",
              "      <td>unknown</td>\n",
              "      <td>5</td>\n",
              "      <td>may</td>\n",
              "      <td>226</td>\n",
              "      <td>1</td>\n",
              "      <td>-1</td>\n",
              "      <td>0</td>\n",
              "      <td>unknown</td>\n",
              "      <td>no</td>\n",
              "    </tr>\n",
              "    <tr>\n",
              "      <th>5</th>\n",
              "      <td>35</td>\n",
              "      <td>management</td>\n",
              "      <td>single</td>\n",
              "      <td>tertiary</td>\n",
              "      <td>no</td>\n",
              "      <td>747</td>\n",
              "      <td>no</td>\n",
              "      <td>no</td>\n",
              "      <td>cellular</td>\n",
              "      <td>23</td>\n",
              "      <td>feb</td>\n",
              "      <td>141</td>\n",
              "      <td>2</td>\n",
              "      <td>176</td>\n",
              "      <td>3</td>\n",
              "      <td>failure</td>\n",
              "      <td>no</td>\n",
              "    </tr>\n",
              "    <tr>\n",
              "      <th>6</th>\n",
              "      <td>36</td>\n",
              "      <td>self-employed</td>\n",
              "      <td>married</td>\n",
              "      <td>tertiary</td>\n",
              "      <td>no</td>\n",
              "      <td>307</td>\n",
              "      <td>yes</td>\n",
              "      <td>no</td>\n",
              "      <td>cellular</td>\n",
              "      <td>14</td>\n",
              "      <td>may</td>\n",
              "      <td>341</td>\n",
              "      <td>1</td>\n",
              "      <td>330</td>\n",
              "      <td>2</td>\n",
              "      <td>other</td>\n",
              "      <td>no</td>\n",
              "    </tr>\n",
              "    <tr>\n",
              "      <th>7</th>\n",
              "      <td>39</td>\n",
              "      <td>technician</td>\n",
              "      <td>married</td>\n",
              "      <td>secondary</td>\n",
              "      <td>no</td>\n",
              "      <td>147</td>\n",
              "      <td>yes</td>\n",
              "      <td>no</td>\n",
              "      <td>cellular</td>\n",
              "      <td>6</td>\n",
              "      <td>may</td>\n",
              "      <td>151</td>\n",
              "      <td>2</td>\n",
              "      <td>-1</td>\n",
              "      <td>0</td>\n",
              "      <td>unknown</td>\n",
              "      <td>no</td>\n",
              "    </tr>\n",
              "    <tr>\n",
              "      <th>8</th>\n",
              "      <td>41</td>\n",
              "      <td>entrepreneur</td>\n",
              "      <td>married</td>\n",
              "      <td>tertiary</td>\n",
              "      <td>no</td>\n",
              "      <td>221</td>\n",
              "      <td>yes</td>\n",
              "      <td>no</td>\n",
              "      <td>unknown</td>\n",
              "      <td>14</td>\n",
              "      <td>may</td>\n",
              "      <td>57</td>\n",
              "      <td>2</td>\n",
              "      <td>-1</td>\n",
              "      <td>0</td>\n",
              "      <td>unknown</td>\n",
              "      <td>no</td>\n",
              "    </tr>\n",
              "    <tr>\n",
              "      <th>9</th>\n",
              "      <td>43</td>\n",
              "      <td>services</td>\n",
              "      <td>married</td>\n",
              "      <td>primary</td>\n",
              "      <td>no</td>\n",
              "      <td>-88</td>\n",
              "      <td>yes</td>\n",
              "      <td>yes</td>\n",
              "      <td>cellular</td>\n",
              "      <td>17</td>\n",
              "      <td>apr</td>\n",
              "      <td>313</td>\n",
              "      <td>1</td>\n",
              "      <td>147</td>\n",
              "      <td>2</td>\n",
              "      <td>failure</td>\n",
              "      <td>no</td>\n",
              "    </tr>\n",
              "  </tbody>\n",
              "</table>\n",
              "</div>"
            ],
            "text/plain": [
              "   age            job  marital  education  ... pdays  previous poutcome   y\n",
              "0   30     unemployed  married    primary  ...    -1         0  unknown  no\n",
              "1   33       services  married  secondary  ...   339         4  failure  no\n",
              "2   35     management   single   tertiary  ...   330         1  failure  no\n",
              "3   30     management  married   tertiary  ...    -1         0  unknown  no\n",
              "4   59    blue-collar  married  secondary  ...    -1         0  unknown  no\n",
              "5   35     management   single   tertiary  ...   176         3  failure  no\n",
              "6   36  self-employed  married   tertiary  ...   330         2    other  no\n",
              "7   39     technician  married  secondary  ...    -1         0  unknown  no\n",
              "8   41   entrepreneur  married   tertiary  ...    -1         0  unknown  no\n",
              "9   43       services  married    primary  ...   147         2  failure  no\n",
              "\n",
              "[10 rows x 17 columns]"
            ]
          },
          "metadata": {
            "tags": []
          },
          "execution_count": 72
        }
      ]
    },
    {
      "cell_type": "code",
      "metadata": {
        "id": "r1XOxnxrvJLt",
        "colab_type": "code",
        "outputId": "8377785a-37b9-420c-c81d-ea0ee6ad745f",
        "colab": {
          "base_uri": "https://localhost:8080/",
          "height": 34
        }
      },
      "source": [
        "data.shape"
      ],
      "execution_count": 0,
      "outputs": [
        {
          "output_type": "execute_result",
          "data": {
            "text/plain": [
              "(4521, 17)"
            ]
          },
          "metadata": {
            "tags": []
          },
          "execution_count": 57
        }
      ]
    },
    {
      "cell_type": "markdown",
      "metadata": {
        "id": "0yVCLUtD8pUc",
        "colab_type": "text"
      },
      "source": [
        "# **EXPLORACIÓN DE DATOS**"
      ]
    },
    {
      "cell_type": "code",
      "metadata": {
        "id": "8VMAahFZ-Kf2",
        "colab_type": "code",
        "outputId": "5ff0fa89-8edf-4f44-fcad-cf8d5e362e75",
        "colab": {
          "base_uri": "https://localhost:8080/",
          "height": 296
        }
      },
      "source": [
        "sns.countplot(x='y',data=data, palette='hls')\n",
        "plt.show()\n",
        "plt.savefig('count_plot')"
      ],
      "execution_count": 187,
      "outputs": [
        {
          "output_type": "display_data",
          "data": {
            "image/png": "[encoded data removed]",
            "text/plain": [
              "<Figure size 432x288 with 1 Axes>"
            ]
          },
          "metadata": {
            "tags": [],
            "needs_background": "light"
          }
        },
        {
          "output_type": "display_data",
          "data": {
            "text/plain": [
              "<Figure size 432x288 with 0 Axes>"
            ]
          },
          "metadata": {
            "tags": []
          }
        }
      ]
    },
    {
      "cell_type": "code",
      "metadata": {
        "id": "fzipWSnjDJMN",
        "colab_type": "code",
        "outputId": "1bc497df-7124-431e-f797-3508535ad450",
        "colab": {
          "base_uri": "https://localhost:8080/",
          "height": 323
        }
      },
      "source": [
        "data.isnull().sum().sort_values(ascending=False)"
      ],
      "execution_count": 188,
      "outputs": [
        {
          "output_type": "execute_result",
          "data": {
            "text/plain": [
              "y            0\n",
              "loan         0\n",
              "job          0\n",
              "marital      0\n",
              "education    0\n",
              "default      0\n",
              "balance      0\n",
              "housing      0\n",
              "contact      0\n",
              "poutcome     0\n",
              "day          0\n",
              "month        0\n",
              "duration     0\n",
              "campaign     0\n",
              "pdays        0\n",
              "previous     0\n",
              "age          0\n",
              "dtype: int64"
            ]
          },
          "metadata": {
            "tags": []
          },
          "execution_count": 188
        }
      ]
    },
    {
      "cell_type": "code",
      "metadata": {
        "id": "KpCFXSheDMFB",
        "colab_type": "code",
        "outputId": "2e1b950b-78f7-4a9b-db56-526931c7f6bc",
        "colab": {
          "base_uri": "https://localhost:8080/",
          "height": 425
        }
      },
      "source": [
        "data.info()"
      ],
      "execution_count": 0,
      "outputs": [
        {
          "output_type": "stream",
          "text": [
            "<class 'pandas.core.frame.DataFrame'>\n",
            "RangeIndex: 4521 entries, 0 to 4520\n",
            "Data columns (total 17 columns):\n",
            " #   Column     Non-Null Count  Dtype \n",
            "---  ------     --------------  ----- \n",
            " 0   age        4521 non-null   int64 \n",
            " 1   job        4521 non-null   object\n",
            " 2   marital    4521 non-null   object\n",
            " 3   education  4521 non-null   object\n",
            " 4   default    4521 non-null   object\n",
            " 5   balance    4521 non-null   int64 \n",
            " 6   housing    4521 non-null   object\n",
            " 7   loan       4521 non-null   object\n",
            " 8   contact    4521 non-null   object\n",
            " 9   day        4521 non-null   int64 \n",
            " 10  month      4521 non-null   object\n",
            " 11  duration   4521 non-null   int64 \n",
            " 12  campaign   4521 non-null   int64 \n",
            " 13  pdays      4521 non-null   int64 \n",
            " 14  previous   4521 non-null   int64 \n",
            " 15  poutcome   4521 non-null   object\n",
            " 16  y          4521 non-null   int64 \n",
            "dtypes: int64(8), object(9)\n",
            "memory usage: 600.6+ KB\n"
          ],
          "name": "stdout"
        }
      ]
    },
    {
      "cell_type": "markdown",
      "metadata": {
        "id": "yaRhFjF1CxzB",
        "colab_type": "text"
      },
      "source": [
        "# **CREACIÓN DE VARIABLES**"
      ]
    },
    {
      "cell_type": "code",
      "metadata": {
        "id": "1lcfjCCMCmLC",
        "colab_type": "code",
        "colab": {}
      },
      "source": [
        "data[\"y\"]= data[\"y\"].map( {'yes': 1, 'no': 0} ).astype(int)"
      ],
      "execution_count": 0,
      "outputs": []
    },
    {
      "cell_type": "code",
      "metadata": {
        "id": "5FgwFIo_CvuI",
        "colab_type": "code",
        "colab": {}
      },
      "source": [
        "var_categoricas=['job','marital','education','default','housing','loan','contact','month','poutcome']\n",
        "for var in var_categoricas:\n",
        "    cat_list='var'+'_'+var\n",
        "    cat_list = pd.get_dummies(data[var], prefix=var)\n",
        "    data_at = data.join(cat_list)\n",
        "    data = data_at"
      ],
      "execution_count": 0,
      "outputs": []
    },
    {
      "cell_type": "code",
      "metadata": {
        "id": "s7VGpwVRLEjp",
        "colab_type": "code",
        "outputId": "3835a33f-ad21-4d1e-813d-b85d8c620ab9",
        "colab": {
          "base_uri": "https://localhost:8080/",
          "height": 34
        }
      },
      "source": [
        "data.shape"
      ],
      "execution_count": 0,
      "outputs": [
        {
          "output_type": "execute_result",
          "data": {
            "text/plain": [
              "(45211, 61)"
            ]
          },
          "metadata": {
            "tags": []
          },
          "execution_count": 121
        }
      ]
    },
    {
      "cell_type": "code",
      "metadata": {
        "id": "FAM-BHIDFBLC",
        "colab_type": "code",
        "outputId": "5fc15449-8fa6-4f80-bd92-a9772a1a7e9c",
        "colab": {
          "base_uri": "https://localhost:8080/",
          "height": 54
        }
      },
      "source": [
        "columnas_total = data.columns.values.tolist()\n",
        "columnas_usar = [col for col in columnas_total if col not in var_categoricas]\n",
        "print(columnas_usar)"
      ],
      "execution_count": 191,
      "outputs": [
        {
          "output_type": "stream",
          "text": [
            "['age', 'balance', 'day', 'duration', 'campaign', 'pdays', 'previous', 'y', 'job_admin.', 'job_blue-collar', 'job_entrepreneur', 'job_housemaid', 'job_management', 'job_retired', 'job_self-employed', 'job_services', 'job_student', 'job_technician', 'job_unemployed', 'job_unknown', 'marital_divorced', 'marital_married', 'marital_single', 'education_primary', 'education_secondary', 'education_tertiary', 'education_unknown', 'default_no', 'default_yes', 'housing_no', 'housing_yes', 'loan_no', 'loan_yes', 'contact_cellular', 'contact_telephone', 'contact_unknown', 'month_apr', 'month_aug', 'month_dec', 'month_feb', 'month_jan', 'month_jul', 'month_jun', 'month_mar', 'month_may', 'month_nov', 'month_oct', 'month_sep', 'poutcome_failure', 'poutcome_other', 'poutcome_success', 'poutcome_unknown']\n"
          ],
          "name": "stdout"
        }
      ]
    },
    {
      "cell_type": "code",
      "metadata": {
        "id": "hnP_5miHHW3Y",
        "colab_type": "code",
        "outputId": "b30e6cc3-fcda-4026-e70f-2776b83d319c",
        "colab": {
          "base_uri": "https://localhost:8080/",
          "height": 255
        }
      },
      "source": [
        "data_usar = data[columnas_usar]\n",
        "data_usar.columns.values"
      ],
      "execution_count": 192,
      "outputs": [
        {
          "output_type": "execute_result",
          "data": {
            "text/plain": [
              "array(['age', 'balance', 'day', 'duration', 'campaign', 'pdays',\n",
              "       'previous', 'y', 'job_admin.', 'job_blue-collar',\n",
              "       'job_entrepreneur', 'job_housemaid', 'job_management',\n",
              "       'job_retired', 'job_self-employed', 'job_services', 'job_student',\n",
              "       'job_technician', 'job_unemployed', 'job_unknown',\n",
              "       'marital_divorced', 'marital_married', 'marital_single',\n",
              "       'education_primary', 'education_secondary', 'education_tertiary',\n",
              "       'education_unknown', 'default_no', 'default_yes', 'housing_no',\n",
              "       'housing_yes', 'loan_no', 'loan_yes', 'contact_cellular',\n",
              "       'contact_telephone', 'contact_unknown', 'month_apr', 'month_aug',\n",
              "       'month_dec', 'month_feb', 'month_jan', 'month_jul', 'month_jun',\n",
              "       'month_mar', 'month_may', 'month_nov', 'month_oct', 'month_sep',\n",
              "       'poutcome_failure', 'poutcome_other', 'poutcome_success',\n",
              "       'poutcome_unknown'], dtype=object)"
            ]
          },
          "metadata": {
            "tags": []
          },
          "execution_count": 192
        }
      ]
    },
    {
      "cell_type": "code",
      "metadata": {
        "id": "BqgrP_YlLg7v",
        "colab_type": "code",
        "outputId": "cce3e550-3e80-4bc4-fd36-cfe663ea83ba",
        "colab": {
          "base_uri": "https://localhost:8080/",
          "height": 34
        }
      },
      "source": [
        "data_usar.shape"
      ],
      "execution_count": 0,
      "outputs": [
        {
          "output_type": "execute_result",
          "data": {
            "text/plain": [
              "(45211, 52)"
            ]
          },
          "metadata": {
            "tags": []
          },
          "execution_count": 157
        }
      ]
    },
    {
      "cell_type": "code",
      "metadata": {
        "id": "Rp1BXV7aCTca",
        "colab_type": "code",
        "colab": {}
      },
      "source": [
        "y=['y']\n",
        "X=[i for i in columnas_usar if i not in y]"
      ],
      "execution_count": 0,
      "outputs": []
    },
    {
      "cell_type": "markdown",
      "metadata": {
        "id": "msScXKw4MOxo",
        "colab_type": "text"
      },
      "source": [
        "# **REGRESORES DE IMPORTANCIA**"
      ]
    },
    {
      "cell_type": "code",
      "metadata": {
        "id": "olFvQi1E_vAs",
        "colab_type": "code",
        "colab": {}
      },
      "source": [
        "from sklearn.feature_selection import RFE\n",
        "\n",
        "logreg = LogisticRegression(solver='liblinear')"
      ],
      "execution_count": 0,
      "outputs": []
    },
    {
      "cell_type": "code",
      "metadata": {
        "id": "3QeqOblpMjup",
        "colab_type": "code",
        "outputId": "3361cf06-4f6b-4742-c0ac-5e326412a31e",
        "colab": {
          "base_uri": "https://localhost:8080/",
          "height": 207
        }
      },
      "source": [
        "rfe = RFE(logreg, 20)\n",
        "rfe = rfe.fit(data_usar[X], data_usar[y] )\n",
        "\n",
        "print(rfe.support_)\n",
        "print(rfe.ranking_)"
      ],
      "execution_count": 195,
      "outputs": [
        {
          "output_type": "stream",
          "text": [
            "/usr/local/lib/python3.6/dist-packages/sklearn/utils/validation.py:760: DataConversionWarning: A column-vector y was passed when a 1d array was expected. Please change the shape of y to (n_samples, ), for example using ravel().\n",
            "  y = column_or_1d(y, warn=True)\n"
          ],
          "name": "stderr"
        },
        {
          "output_type": "stream",
          "text": [
            "[False False False False False False False False False False False False\n",
            "  True False False  True False False False False False False False False\n",
            " False False False False False  True False  True  True False  True False\n",
            "  True  True  True  True  True False  True  True  True  True  True  True\n",
            "  True  True  True]\n",
            "[30 31 27 29 14 32 26 24 17  9  4 23  1 20 19  1 22  5 12 15  2 25  3  7\n",
            " 21  8 10  6 18  1 28  1  1 11  1 16  1  1  1  1  1 13  1  1  1  1  1  1\n",
            "  1  1  1]\n"
          ],
          "name": "stdout"
        }
      ]
    },
    {
      "cell_type": "code",
      "metadata": {
        "id": "DsMu3Xq8Ktx3",
        "colab_type": "code",
        "outputId": "3a27ce1e-a493-4244-c877-ab8f3ab5c0b8",
        "colab": {
          "base_uri": "https://localhost:8080/",
          "height": 54
        }
      },
      "source": [
        "col_validas = rfe.support_\n",
        "col_validas = list(col_validas)\n",
        "cols = list(columnas_usar)\n",
        "print(cols,col_validas)"
      ],
      "execution_count": 196,
      "outputs": [
        {
          "output_type": "stream",
          "text": [
            "['age', 'balance', 'day', 'duration', 'campaign', 'pdays', 'previous', 'y', 'job_admin.', 'job_blue-collar', 'job_entrepreneur', 'job_housemaid', 'job_management', 'job_retired', 'job_self-employed', 'job_services', 'job_student', 'job_technician', 'job_unemployed', 'job_unknown', 'marital_divorced', 'marital_married', 'marital_single', 'education_primary', 'education_secondary', 'education_tertiary', 'education_unknown', 'default_no', 'default_yes', 'housing_no', 'housing_yes', 'loan_no', 'loan_yes', 'contact_cellular', 'contact_telephone', 'contact_unknown', 'month_apr', 'month_aug', 'month_dec', 'month_feb', 'month_jan', 'month_jul', 'month_jun', 'month_mar', 'month_may', 'month_nov', 'month_oct', 'month_sep', 'poutcome_failure', 'poutcome_other', 'poutcome_success', 'poutcome_unknown'] [False, False, False, False, False, False, False, False, False, False, False, False, True, False, False, True, False, False, False, False, False, False, False, False, False, False, False, False, False, True, False, True, True, False, True, False, True, True, True, True, True, False, True, True, True, True, True, True, True, True, True]\n"
          ],
          "name": "stdout"
        }
      ]
    },
    {
      "cell_type": "code",
      "metadata": {
        "id": "YPBcPw70QiE9",
        "colab_type": "code",
        "outputId": "40f4f4a6-c81f-4705-f273-f083b9611338",
        "colab": {
          "base_uri": "https://localhost:8080/",
          "height": 357
        }
      },
      "source": [
        "from itertools import compress\n",
        "\n",
        "final_colum = list(compress(cols, col_validas))\n",
        "final_colum"
      ],
      "execution_count": 197,
      "outputs": [
        {
          "output_type": "execute_result",
          "data": {
            "text/plain": [
              "['job_management',\n",
              " 'job_services',\n",
              " 'housing_no',\n",
              " 'loan_no',\n",
              " 'loan_yes',\n",
              " 'contact_telephone',\n",
              " 'month_apr',\n",
              " 'month_aug',\n",
              " 'month_dec',\n",
              " 'month_feb',\n",
              " 'month_jan',\n",
              " 'month_jun',\n",
              " 'month_mar',\n",
              " 'month_may',\n",
              " 'month_nov',\n",
              " 'month_oct',\n",
              " 'month_sep',\n",
              " 'poutcome_failure',\n",
              " 'poutcome_other',\n",
              " 'poutcome_success']"
            ]
          },
          "metadata": {
            "tags": []
          },
          "execution_count": 197
        }
      ]
    },
    {
      "cell_type": "code",
      "metadata": {
        "id": "zLFo9yFTRBR0",
        "colab_type": "code",
        "colab": {}
      },
      "source": [
        "x=data_usar[final_colum]\n",
        "y=data_usar['y']"
      ],
      "execution_count": 0,
      "outputs": []
    },
    {
      "cell_type": "markdown",
      "metadata": {
        "id": "PKZM4JUfTx96",
        "colab_type": "text"
      },
      "source": [
        "# **VISUALIZACIÓN DE DATOS RELACIONADOS**"
      ]
    },
    {
      "cell_type": "code",
      "metadata": {
        "id": "Vw-0s4idT3Bb",
        "colab_type": "code",
        "outputId": "ab07b795-96c1-4ced-ed4f-35280f8ab332",
        "colab": {
          "base_uri": "https://localhost:8080/",
          "height": 328
        }
      },
      "source": [
        "table=pd.crosstab(data.marital,data.y)\n",
        "table.div(table.sum(1).astype(float), axis=0).plot(kind='bar', stacked=True)\n",
        "plt.title('Gráfico de barras apiladas de estado civil vs compra')\n",
        "plt.xlabel('Estado civil')\n",
        "plt.ylabel('Proporción de clientes')\n",
        "plt.savefig('mariral_vs_pur_stack')"
      ],
      "execution_count": 199,
      "outputs": [
        {
          "output_type": "display_data",
          "data": {
            "image/png": "[encoded data removed]",
            "text/plain": [
              "<Figure size 432x288 with 1 Axes>"
            ]
          },
          "metadata": {
            "tags": [],
            "needs_background": "light"
          }
        }
      ]
    },
    {
      "cell_type": "code",
      "metadata": {
        "id": "0JFW4R8MUBYd",
        "colab_type": "code",
        "outputId": "f20c4a56-d105-4a85-cc18-88eac21e54d9",
        "colab": {
          "base_uri": "https://localhost:8080/",
          "height": 356
        }
      },
      "source": [
        "%matplotlib inline\n",
        "pd.crosstab(data.job,data.y).plot(kind='bar')\n",
        "plt.title('Frecuencia de compra para el cargo')\n",
        "plt.xlabel('Trabajo')\n",
        "plt.ylabel('Frecuencia de compra')\n",
        "plt.savefig('purchase_fre_job')"
      ],
      "execution_count": 0,
      "outputs": [
        {
          "output_type": "display_data",
          "data": {
            "image/png": "[encoded data removed]",
            "text/plain": [
              "<Figure size 432x288 with 1 Axes>"
            ]
          },
          "metadata": {
            "tags": [],
            "needs_background": "light"
          }
        }
      ]
    },
    {
      "cell_type": "code",
      "metadata": {
        "id": "JRI3ynE8UKDx",
        "colab_type": "code",
        "outputId": "be16f01e-5dbc-49de-bc3f-467a3f8e6fc3",
        "colab": {
          "base_uri": "https://localhost:8080/",
          "height": 307
        }
      },
      "source": [
        "pd.crosstab(data.month,data.y).plot(kind='bar')\n",
        "plt.title('Frecuencia de compra por mes')\n",
        "plt.xlabel('Mes')\n",
        "plt.ylabel('Frecuencia de compra')\n",
        "plt.savefig('pur_fre_month_bar')"
      ],
      "execution_count": 0,
      "outputs": [
        {
          "output_type": "display_data",
          "data": {
            "image/png": "[encoded data removed]",
            "text/plain": [
              "<Figure size 432x288 with 1 Axes>"
            ]
          },
          "metadata": {
            "tags": [],
            "needs_background": "light"
          }
        }
      ]
    },
    {
      "cell_type": "code",
      "metadata": {
        "id": "jde5M3uZYtjT",
        "colab_type": "code",
        "colab": {}
      },
      "source": [
        ""
      ],
      "execution_count": 0,
      "outputs": []
    },
    {
      "cell_type": "markdown",
      "metadata": {
        "id": "jyE7Me8jRaOp",
        "colab_type": "text"
      },
      "source": [
        "# **IMPLEMENTACIÓN DEL MODELO DE REGRESIÓN LOGÍSTICA**"
      ]
    },
    {
      "cell_type": "code",
      "metadata": {
        "id": "sJ-aDmgDRe_S",
        "colab_type": "code",
        "outputId": "b90b4940-92ef-4741-b7cd-5e1b0d0f4a77",
        "colab": {
          "base_uri": "https://localhost:8080/",
          "height": 102
        }
      },
      "source": [
        "X_train, X_test, y_train, y_test = train_test_split(x, y, test_size=0.3, random_state=0)\n",
        "from sklearn import metrics\n",
        "logreg = LogisticRegression()\n",
        "logreg.fit(X_train, y_train)"
      ],
      "execution_count": 200,
      "outputs": [
        {
          "output_type": "execute_result",
          "data": {
            "text/plain": [
              "LogisticRegression(C=1.0, class_weight=None, dual=False, fit_intercept=True,\n",
              "                   intercept_scaling=1, l1_ratio=None, max_iter=100,\n",
              "                   multi_class='auto', n_jobs=None, penalty='l2',\n",
              "                   random_state=None, solver='lbfgs', tol=0.0001, verbose=0,\n",
              "                   warm_start=False)"
            ]
          },
          "metadata": {
            "tags": []
          },
          "execution_count": 200
        }
      ]
    },
    {
      "cell_type": "code",
      "metadata": {
        "id": "1ShWs0dgSDbo",
        "colab_type": "code",
        "colab": {}
      },
      "source": [
        "y_pred = logreg.predict(X_test)"
      ],
      "execution_count": 0,
      "outputs": []
    },
    {
      "cell_type": "code",
      "metadata": {
        "id": "ON6e99KySG2U",
        "colab_type": "code",
        "outputId": "69af16cd-2d0f-430c-e6d0-30e17cd0aba5",
        "colab": {
          "base_uri": "https://localhost:8080/",
          "height": 34
        }
      },
      "source": [
        "print('Precisión del clasificador de regresión logística en el conjunto de prueba: {:.3f}'.format(logreg.score(X_test, y_test)*100))"
      ],
      "execution_count": 221,
      "outputs": [
        {
          "output_type": "stream",
          "text": [
            "Precisión del clasificador de regresión logística en el conjunto de prueba: 89.214\n"
          ],
          "name": "stdout"
        }
      ]
    },
    {
      "cell_type": "markdown",
      "metadata": {
        "id": "QKYz72YTSjEI",
        "colab_type": "text"
      },
      "source": [
        "# **CROSS VALIDATION**"
      ]
    },
    {
      "cell_type": "code",
      "metadata": {
        "id": "TL4ItfYRS9yr",
        "colab_type": "code",
        "outputId": "9e5b4127-b993-42b5-9480-498685af5884",
        "colab": {
          "base_uri": "https://localhost:8080/",
          "height": 88
        }
      },
      "source": [
        "kfold = model_selection.KFold(n_splits=10, random_state=7)\n",
        "modelCV = LogisticRegression()\n",
        "scoring = 'accuracy'\n",
        "results = model_selection.cross_val_score(modelCV, X_train, y_train, cv=kfold, scoring=scoring)\n",
        "print(\"Precisión promedio de validación cruzada 10 veces: %.3f\" % (results.mean()))"
      ],
      "execution_count": 203,
      "outputs": [
        {
          "output_type": "stream",
          "text": [
            "/usr/local/lib/python3.6/dist-packages/sklearn/model_selection/_split.py:296: FutureWarning: Setting a random_state has no effect since shuffle is False. This will raise an error in 0.24. You should leave random_state to its default (None), or set shuffle=True.\n",
            "  FutureWarning\n"
          ],
          "name": "stderr"
        },
        {
          "output_type": "stream",
          "text": [
            "Precisión promedio de validación cruzada 10 veces: 0.894\n"
          ],
          "name": "stdout"
        }
      ]
    },
    {
      "cell_type": "markdown",
      "metadata": {
        "id": "_2_E081aWdTj",
        "colab_type": "text"
      },
      "source": [
        "# **MATRIZ DE CONFUSIÓN**"
      ]
    },
    {
      "cell_type": "code",
      "metadata": {
        "id": "llqlwH1iWhOf",
        "colab_type": "code",
        "outputId": "1983e9c9-0fb0-4a3b-831f-2ce9bad22848",
        "colab": {
          "base_uri": "https://localhost:8080/",
          "height": 51
        }
      },
      "source": [
        "confusion_matrix = confusion_matrix(y_test, y_pred)\n",
        "print(confusion_matrix)"
      ],
      "execution_count": 204,
      "outputs": [
        {
          "output_type": "stream",
          "text": [
            "[[11824   145]\n",
            " [ 1318   277]]\n"
          ],
          "name": "stdout"
        }
      ]
    },
    {
      "cell_type": "markdown",
      "metadata": {
        "id": "4Yd4uzOHpOBH",
        "colab_type": "text"
      },
      "source": [
        "# **IMPLEMENTACIÓN DEL MODELO DE RANDOM FOREST**"
      ]
    },
    {
      "cell_type": "code",
      "metadata": {
        "id": "G9PT5a4ApRSH",
        "colab_type": "code",
        "colab": {}
      },
      "source": [
        "random_forest = RandomForestClassifier(n_estimators=100)\n",
        "random_forest.fit(X_train, y_train)\n",
        "\n",
        "Y_prediction = random_forest.predict(X_test)\n",
        "\n",
        "random_forest.score(X_train, y_train)\n",
        "acc_random_forest = round(random_forest.score(X_test, y_test)*100, 3)"
      ],
      "execution_count": 0,
      "outputs": []
    },
    {
      "cell_type": "code",
      "metadata": {
        "id": "dysaHLduphqX",
        "colab_type": "code",
        "colab": {
          "base_uri": "https://localhost:8080/",
          "height": 34
        },
        "outputId": "3201bf5f-3976-485d-cae6-9889834f8f9d"
      },
      "source": [
        "#print('Precisión del clasificador de regresión logística en el conjunto de prueba: {:.3f}'.format(acc_random_forest))\n",
        "#print(\"Precisión promedio de validación cruzada 10 veces: %.3f\" % (acc_random_forest))\n",
        "print('Precisión del clasificador de regresión logística en el conjunto de prueba: {:.3f}'.format(acc_random_forest))"
      ],
      "execution_count": 220,
      "outputs": [
        {
          "output_type": "stream",
          "text": [
            "Precisión del clasificador de regresión logística en el conjunto de prueba: 89.089\n"
          ],
          "name": "stdout"
        }
      ]
    },
    {
      "cell_type": "markdown",
      "metadata": {
        "id": "sC1DEY77rI-H",
        "colab_type": "text"
      },
      "source": [
        "# **IMPLEMENTACIÓN DEL MODELO DE STOCHASTIC GRADIENT DECENT**"
      ]
    },
    {
      "cell_type": "code",
      "metadata": {
        "id": "3VyMbjY0q3nk",
        "colab_type": "code",
        "colab": {}
      },
      "source": [
        "sgd = linear_model.SGDClassifier(max_iter=5, tol=None)\n",
        "sgd.fit(X_train, y_train)\n",
        "Y_pred = sgd.predict(X_test)\n",
        "\n",
        "sgd.score(X_train, y_train)\n",
        "\n",
        "acc_sgd = round(sgd.score(X_test, y_test) * 100, 3)"
      ],
      "execution_count": 0,
      "outputs": []
    },
    {
      "cell_type": "code",
      "metadata": {
        "id": "GVYVK00ntrTV",
        "colab_type": "code",
        "colab": {
          "base_uri": "https://localhost:8080/",
          "height": 34
        },
        "outputId": "390da84e-d838-456c-b2ed-86e1d0719938"
      },
      "source": [
        "print('Precisión del clasificador de regresión logística en el conjunto de prueba: {:.3f}'.format(acc_sgd))"
      ],
      "execution_count": 218,
      "outputs": [
        {
          "output_type": "stream",
          "text": [
            "Precisión del clasificador de regresión logística en el conjunto de prueba: 89.067\n"
          ],
          "name": "stdout"
        }
      ]
    }
  ]
}